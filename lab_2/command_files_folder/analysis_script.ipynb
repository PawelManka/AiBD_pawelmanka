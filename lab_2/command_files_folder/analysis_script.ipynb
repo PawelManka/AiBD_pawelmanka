{
 "cells": [
  {
   "cell_type": "markdown",
   "id": "f13ef961",
   "metadata": {},
   "source": [
    "lab_2 Pawel Manka \n"
   ]
  },
  {
   "cell_type": "code",
   "execution_count": 10,
   "id": "936d10f5",
   "metadata": {},
   "outputs": [],
   "source": [
    "import pandas as pd"
   ]
  },
  {
   "cell_type": "code",
   "execution_count": 51,
   "id": "be58c1c6",
   "metadata": {},
   "outputs": [
    {
     "name": "stdout",
     "output_type": "stream",
     "text": [
      "2010\n",
      "2010\n",
      "2010\n",
      "2010\n",
      "2010\n",
      "2010\n",
      "2010\n",
      "2010\n",
      "2010\n",
      "2010\n",
      "2010\n",
      "2010\n",
      "2010\n",
      "2010\n",
      "2010\n",
      "2010\n",
      "2010\n",
      "2010\n",
      "2010\n",
      "2010\n",
      "2010\n",
      "2010\n",
      "2010\n",
      "2010\n",
      "2010\n",
      "2010\n",
      "2010\n",
      "2010\n",
      "2010\n",
      "2010\n",
      "2010\n",
      "2010\n",
      "2010\n",
      "2010\n"
     ]
    }
   ],
   "source": [
    "with open(\"../original_data/weather.txt\") as file:\n",
    "    data = file.read()\n",
    "    \n",
    "split_data = data.split('\\n')\n",
    "# print(split_data)\n",
    "for row in split_data:\n",
    "    if(row[11:15] == \"2010\"):\n",
    "        print(row[11:15])"
   ]
  },
  {
   "cell_type": "code",
   "execution_count": 35,
   "id": "09463bb9",
   "metadata": {},
   "outputs": [],
   "source": [
    "mydata = pd.read_csv(\"../original_data/weather.txt\")\n"
   ]
  },
  {
   "cell_type": "code",
   "execution_count": 38,
   "id": "561df2fc",
   "metadata": {},
   "outputs": [
    {
     "data": {
      "text/html": [
       "<div>\n",
       "<style scoped>\n",
       "    .dataframe tbody tr th:only-of-type {\n",
       "        vertical-align: middle;\n",
       "    }\n",
       "\n",
       "    .dataframe tbody tr th {\n",
       "        vertical-align: top;\n",
       "    }\n",
       "\n",
       "    .dataframe thead th {\n",
       "        text-align: right;\n",
       "    }\n",
       "</style>\n",
       "<table border=\"1\" class=\"dataframe\">\n",
       "  <thead>\n",
       "    <tr style=\"text-align: right;\">\n",
       "      <th></th>\n",
       "      <th>MX000017004195504TMAX  310  I  310  I  310  I  320  I  330  I  320  I  320  I  330  I  330  I  330  I  330  I  320  I  310  I  310  I  320  I  320  I  320  I  310  I  310  I  320  I  320  I  330  I  330  I  330  I  330  I  330  I  330  I  340  I  330  I  320  I-9999</th>\n",
       "    </tr>\n",
       "  </thead>\n",
       "  <tbody>\n",
       "    <tr>\n",
       "      <th>0</th>\n",
       "      <td>MX000017004195504TMIN  150  I  150  I  160  I ...</td>\n",
       "    </tr>\n",
       "    <tr>\n",
       "      <th>1</th>\n",
       "      <td>MX000017004195504PRCP    0  I    0  I    0  I ...</td>\n",
       "    </tr>\n",
       "    <tr>\n",
       "      <th>2</th>\n",
       "      <td>MX000017004195505TMAX  310  I  310  I  310  I ...</td>\n",
       "    </tr>\n",
       "    <tr>\n",
       "      <th>3</th>\n",
       "      <td>MX000017004195505TMIN  200  I  160  I  160  I ...</td>\n",
       "    </tr>\n",
       "    <tr>\n",
       "      <th>4</th>\n",
       "      <td>MX000017004195505PRCP    0  I    0  I    0  I ...</td>\n",
       "    </tr>\n",
       "    <tr>\n",
       "      <th>...</th>\n",
       "      <td>...</td>\n",
       "    </tr>\n",
       "    <tr>\n",
       "      <th>1708</th>\n",
       "      <td>MX000017004201103TMIN-9999   -9999   -9999   -...</td>\n",
       "    </tr>\n",
       "    <tr>\n",
       "      <th>1709</th>\n",
       "      <td>MX000017004201103PRCP    0  S-9999       0  S ...</td>\n",
       "    </tr>\n",
       "    <tr>\n",
       "      <th>1710</th>\n",
       "      <td>MX000017004201104TMAX-9999     350  S-9999   -...</td>\n",
       "    </tr>\n",
       "    <tr>\n",
       "      <th>1711</th>\n",
       "      <td>MX000017004201104TMIN-9999     168  S-9999   -...</td>\n",
       "    </tr>\n",
       "    <tr>\n",
       "      <th>1712</th>\n",
       "      <td>MX000017004201104PRCP    0  S    0  S-9999   -...</td>\n",
       "    </tr>\n",
       "  </tbody>\n",
       "</table>\n",
       "<p>1713 rows × 1 columns</p>\n",
       "</div>"
      ],
      "text/plain": [
       "     MX000017004195504TMAX  310  I  310  I  310  I  320  I  330  I  320  I  320  I  330  I  330  I  330  I  330  I  320  I  310  I  310  I  320  I  320  I  320  I  310  I  310  I  320  I  320  I  330  I  330  I  330  I  330  I  330  I  330  I  340  I  330  I  320  I-9999   \n",
       "0     MX000017004195504TMIN  150  I  150  I  160  I ...                                                                                                                                                                                                                           \n",
       "1     MX000017004195504PRCP    0  I    0  I    0  I ...                                                                                                                                                                                                                           \n",
       "2     MX000017004195505TMAX  310  I  310  I  310  I ...                                                                                                                                                                                                                           \n",
       "3     MX000017004195505TMIN  200  I  160  I  160  I ...                                                                                                                                                                                                                           \n",
       "4     MX000017004195505PRCP    0  I    0  I    0  I ...                                                                                                                                                                                                                           \n",
       "...                                                 ...                                                                                                                                                                                                                           \n",
       "1708  MX000017004201103TMIN-9999   -9999   -9999   -...                                                                                                                                                                                                                           \n",
       "1709  MX000017004201103PRCP    0  S-9999       0  S ...                                                                                                                                                                                                                           \n",
       "1710  MX000017004201104TMAX-9999     350  S-9999   -...                                                                                                                                                                                                                           \n",
       "1711  MX000017004201104TMIN-9999     168  S-9999   -...                                                                                                                                                                                                                           \n",
       "1712  MX000017004201104PRCP    0  S    0  S-9999   -...                                                                                                                                                                                                                           \n",
       "\n",
       "[1713 rows x 1 columns]"
      ]
     },
     "execution_count": 38,
     "metadata": {},
     "output_type": "execute_result"
    }
   ],
   "source": [
    "mydata"
   ]
  },
  {
   "cell_type": "code",
   "execution_count": 37,
   "id": "a55072ce",
   "metadata": {
    "scrolled": true
   },
   "outputs": [
    {
     "name": "stdout",
     "output_type": "stream",
     "text": [
      "1955\n"
     ]
    }
   ],
   "source": [
    "for row in mydata:\n",
    "    print(row[11:15])\n",
    "    "
   ]
  },
  {
   "cell_type": "code",
   "execution_count": null,
   "id": "4c4836e8",
   "metadata": {},
   "outputs": [],
   "source": []
  }
 ],
 "metadata": {
  "kernelspec": {
   "display_name": "Python 3.8.8 64-bit ('base': conda)",
   "language": "python",
   "name": "python388jvsc74a57bd01448b48b023bcc9c3d4a79e814720a10ca6d4244f75e0f7ce4af58f96ba2b7d3"
  },
  "language_info": {
   "codemirror_mode": {
    "name": "ipython",
    "version": 3
   },
   "file_extension": ".py",
   "mimetype": "text/x-python",
   "name": "python",
   "nbconvert_exporter": "python",
   "pygments_lexer": "ipython3",
   "version": "3.8.8"
  }
 },
 "nbformat": 4,
 "nbformat_minor": 5
}
